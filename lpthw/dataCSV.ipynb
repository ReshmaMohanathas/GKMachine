{
 "cells": [
  {
   "cell_type": "code",
   "execution_count": 74,
   "metadata": {},
   "outputs": [
    {
     "data": {
      "text/html": [
       "<div>\n",
       "<style scoped>\n",
       "    .dataframe tbody tr th:only-of-type {\n",
       "        vertical-align: middle;\n",
       "    }\n",
       "\n",
       "    .dataframe tbody tr th {\n",
       "        vertical-align: top;\n",
       "    }\n",
       "\n",
       "    .dataframe thead th {\n",
       "        text-align: right;\n",
       "    }\n",
       "</style>\n",
       "<table border=\"1\" class=\"dataframe\">\n",
       "  <thead>\n",
       "    <tr style=\"text-align: right;\">\n",
       "      <th></th>\n",
       "      <th>s.no</th>\n",
       "      <th>month</th>\n",
       "    </tr>\n",
       "  </thead>\n",
       "  <tbody>\n",
       "    <tr>\n",
       "      <th>R</th>\n",
       "      <td>1</td>\n",
       "      <td>Dec</td>\n",
       "    </tr>\n",
       "    <tr>\n",
       "      <th>M</th>\n",
       "      <td>3</td>\n",
       "      <td>Feb</td>\n",
       "    </tr>\n",
       "  </tbody>\n",
       "</table>\n",
       "</div>"
      ],
      "text/plain": [
       "   s.no month\n",
       "R     1   Dec\n",
       "M     3   Feb"
      ]
     },
     "execution_count": 74,
     "metadata": {},
     "output_type": "execute_result"
    }
   ],
   "source": [
    "import pandas as pd\n",
    "import numpy as np\n",
    "\n",
    "\n",
    "data=pd.read_csv(\"C:\\\\Users\\\\gokul\\\\OneDrive\\\\Documents\\\\Resh\\\\Sample.csv\")\n",
    "data.groupby(\"Number of employees\").max()\n",
    "np_array=np.array([1,2,3,4])\n",
    "pd_array=pd.Series(np_array,['a','b','c','d'])\n",
    "pd_array2=pd.Series([1,2,3,4],['a','b','c','d'])\n",
    "np_array[2]\n",
    "pd_array2[:3]\n",
    "d={\"no\":[1,2,3],\"name\":[\"shinchan\",\"doraemon\",\"hatori\"],\"friend\":[\"kasama\",\"nobita\",\"kenichi\"]}\n",
    "df=pd.DataFrame([[1,\"Reshma\",\"Dec\"],[2,\"Lijitha\",\"Nov\"],[3,\"mahi\",\"Feb\"],[4,\"kalai\",\"oct\"]],\n",
    "                columns=[\"s.no\",\"Name\",\"month\"])\n",
    "df1=pd.DataFrame(d)\n",
    "df.index=[\"R\",\"L\",\"M\",\"k\"]\n",
    "df.loc[\"L\":\"M\",\"Name\":]\n",
    "df.iloc[1:3,1:]\n",
    "df.loc[[\"R\",\"M\"],[\"s.no\",\"month\"]]\n",
    "df.iloc[[0,2],[0,2]]\n"
   ]
  }
 ],
 "metadata": {
  "kernelspec": {
   "display_name": "Python 3",
   "language": "python",
   "name": "python3"
  },
  "language_info": {
   "codemirror_mode": {
    "name": "ipython",
    "version": 3
   },
   "file_extension": ".py",
   "mimetype": "text/x-python",
   "name": "python",
   "nbconvert_exporter": "python",
   "pygments_lexer": "ipython3",
   "version": "3.11.4"
  },
  "orig_nbformat": 4
 },
 "nbformat": 4,
 "nbformat_minor": 2
}
