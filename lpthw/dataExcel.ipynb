{
 "cells": [
  {
   "cell_type": "code",
   "execution_count": 83,
   "metadata": {},
   "outputs": [],
   "source": [
    "import pandas as pd\n",
    "\n",
    "data=pd.read_excel(\"C:\\\\Users\\gokul\\\\OneDrive\\\\Documents\\\\Resh\\\\SampleBook1.xlsx\", \"Sample\",index_col=\"Index\") \n",
    "data.head\n",
    "data.tail\n",
    "data.dtypes\n",
    "data.describe()\n",
    "data.drop(4,inplace=True)\n",
    "data.drop(\"Description\",axis=1,inplace=True)\n",
    "data.columns\n",
    "data[\"Half no. of Employees\"]=data[\"Number of employees\"]/2\n",
    "# data.to_excel(\"C:\\\\Users\\gokul\\\\OneDrive\\\\Documents\\\\Resh\\\\ExportedExcel.xlsx\")\n",
    "data[\"Founded\"]=data[\"Founded\"].astype(str)\n",
    "data[\"Current Date\"]=\"09-08-2023\"\n",
    "data.rename(columns={\"Current Date\":\"Last updated\"},inplace=True)\n",
    "# data[\"CurrentDate\"]=pd.to_datetime(\"09-08-2023\",errors=\"raise\", format=\"%Y-%m-%d\")\n",
    "\n",
    "\n"
   ]
  },
  {
   "cell_type": "code",
   "execution_count": 91,
   "metadata": {},
   "outputs": [
    {
     "data": {
      "text/plain": [
       "Organization Id                  object\n",
       "Name                             object\n",
       "Website                          object\n",
       "Country                          object\n",
       "Founded                          object\n",
       "Industry                         object\n",
       "Number of employees               int64\n",
       "Half no. of Employees           float64\n",
       "Last updated             datetime64[ns]\n",
       "Month                             int32\n",
       "String_date                      object\n",
       "dtype: object"
      ]
     },
     "execution_count": 91,
     "metadata": {},
     "output_type": "execute_result"
    }
   ],
   "source": [
    "data[\"Last updated\"]=pd.to_datetime(data[\"Last updated\"])\n",
    "data[\"Month\"]=data[\"Last updated\"].dt.month\n",
    "data[\"String_date\"]=data[\"Last updated\"].dt.strftime(\"%b-%y\")\n",
    "data.dtypes\n"
   ]
  }
 ],
 "metadata": {
  "kernelspec": {
   "display_name": "Python 3",
   "language": "python",
   "name": "python3"
  },
  "language_info": {
   "codemirror_mode": {
    "name": "ipython",
    "version": 3
   },
   "file_extension": ".py",
   "mimetype": "text/x-python",
   "name": "python",
   "nbconvert_exporter": "python",
   "pygments_lexer": "ipython3",
   "version": "3.11.4"
  },
  "orig_nbformat": 4
 },
 "nbformat": 4,
 "nbformat_minor": 2
}
